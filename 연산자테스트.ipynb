{
 "cells": [
  {
   "cell_type": "code",
   "execution_count": null,
   "metadata": {},
   "outputs": [],
   "source": [
    "num = 141\n",
    "print(num)\n",
    "\n",
    "num = 0b10001101\n",
    "print(num)\n",
    "\n",
    "num = 0o215\n",
    "print(num)\n",
    "\n",
    "num = 0x8d\n",
    "print(num)"
   ]
  },
  {
   "cell_type": "code",
   "execution_count": null,
   "metadata": {},
   "outputs": [],
   "source": [
    "2**3 #2의3승 이라는 뜻\n",
    "print(5/3) #  일반 실수형 나누기\n",
    "print(5//3) # // 두번 사용하면 소수점을 버린다는 의미 floor division의 뜻인데 소수점을 버려서 내린다는 뜻\n",
    "print(5%3) \n",
    "print(7%2)"
   ]
  },
  {
   "cell_type": "code",
   "execution_count": null,
   "metadata": {},
   "outputs": [],
   "source": [
    "print(\"hot\"+\"dog\")\n",
    "\n",
    "print(\"hot\"+\"dog\"*2)  # 문자열에서 곱하기를 사용하면 반복의 의미를 내포한다."
   ]
  },
  {
   "cell_type": "code",
   "execution_count": null,
   "metadata": {},
   "outputs": [],
   "source": [
    "# 문제 : -로 줄을 긋도록 처리\n",
    "# 방법 1>\n",
    "\n",
    "print('-----')\n",
    "\n",
    "# 방법 2>\n",
    "s=''\n",
    "for n in range(10):\n",
    "    s += '-'\n",
    "print(s)\n",
    "\n",
    "# 방법 3>\n",
    "print('-'*10)"
   ]
  },
  {
   "cell_type": "code",
   "execution_count": null,
   "metadata": {},
   "outputs": [],
   "source": [
    "# 숫자와 문자열간의 연산은?\n",
    "x = 20\n",
    "print('x'+'y') #'xy'\n",
    "#print('x'+10) # 오류\n",
    "print(10+x)\n",
    "# print('20'+10) # 문자열 + 숫자는 안됨\n",
    "# print(10+'20')"
   ]
  },
  {
   "cell_type": "code",
   "execution_count": 21,
   "metadata": {},
   "outputs": [
    {
     "name": "stdout",
     "output_type": "stream",
     "text": [
      "hot dog\n",
      "hotdog\n",
      "hotdog\n",
      "hotdog\n",
      "hotdog\n"
     ]
    }
   ],
   "source": [
    "# 문자열들을 출력할 때 발생할 수 있는 현상들\n",
    "print('hot','dog')\n",
    "print('hot'+'dog')\n",
    "print('hot''dog')\n",
    "print('hot'         'dog')\n",
    "print('hot''''''''dog')\n",
    "#문자열끼리 계산할때는 상관없이"
   ]
  }
 ],
 "metadata": {
  "kernelspec": {
   "display_name": "Python 3.10.7 64-bit",
   "language": "python",
   "name": "python3"
  },
  "language_info": {
   "codemirror_mode": {
    "name": "ipython",
    "version": 3
   },
   "file_extension": ".py",
   "mimetype": "text/x-python",
   "name": "python",
   "nbconvert_exporter": "python",
   "pygments_lexer": "ipython3",
   "version": "3.10.7"
  },
  "orig_nbformat": 4,
  "vscode": {
   "interpreter": {
    "hash": "607db476e417971f05b607c2dd14e77ee8262c2c4c20dea422522c60605a222a"
   }
  }
 },
 "nbformat": 4,
 "nbformat_minor": 2
}

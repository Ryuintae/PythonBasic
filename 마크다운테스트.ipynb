{
 "cells": [
  {
   "cell_type": "markdown",
   "metadata": {},
   "source": [
    "# 파이썬 프로그래밍\n",
    "## 기본사항\n",
    "## 기초문법\n",
    "### 변수 사용하기\n",
    "> 변수 이름 짓기\n",
    "1. 영문자, 숫자, 밑줄(_)\n",
    "2. 첫 글자는 영문자 또는 밑줄로 시작\n",
    "\n",
    "> 코드작성 \n",
    "```python\n",
    "x = 10\n",
    "t = 20\n",
    "print(x+y)\n",
    "```"
   ]
  },
  {
   "cell_type": "code",
   "execution_count": 15,
   "metadata": {},
   "outputs": [
    {
     "data": {
      "text/plain": [
       "str"
      ]
     },
     "execution_count": 15,
     "metadata": {},
     "output_type": "execute_result"
    }
   ],
   "source": [
    "type(\"10.0\")"
   ]
  },
  {
   "cell_type": "code",
   "execution_count": 8,
   "metadata": {},
   "outputs": [
    {
     "name": "stdout",
     "output_type": "stream",
     "text": [
      "A\n",
      "B\n",
      "A\n",
      "B\n",
      "A\n",
      "B\n"
     ]
    }
   ],
   "source": [
    "for x in range(3): #for(x=0; x<=3; x++)\n",
    "    print(\"A\")\n",
    "    print(\"B\")"
   ]
  },
  {
   "cell_type": "code",
   "execution_count": 9,
   "metadata": {},
   "outputs": [
    {
     "name": "stdout",
     "output_type": "stream",
     "text": [
      "A\n",
      "A\n",
      "A\n",
      "B\n"
     ]
    }
   ],
   "source": [
    "for x in range(3):\n",
    "    print(\"A\")\n",
    "print(\"B\")"
   ]
  },
  {
   "cell_type": "code",
   "execution_count": 11,
   "metadata": {},
   "outputs": [
    {
     "name": "stdout",
     "output_type": "stream",
     "text": [
      "red\n",
      "redblue\n",
      "redbluegreen\n",
      "redbluegreenyellow\n"
     ]
    }
   ],
   "source": [
    "# 절차적으로 명세한 코드\n",
    "colors = ['red','blue','green','yellow']\n",
    "result = ''\n",
    "for s in colors:\n",
    "    result += s\n",
    "    print(result)"
   ]
  },
  {
   "cell_type": "code",
   "execution_count": 10,
   "metadata": {},
   "outputs": [
    {
     "name": "stdout",
     "output_type": "stream",
     "text": [
      "redbluegreenyellow\n"
     ]
    }
   ],
   "source": [
    "# 선언적으로 명세한 코드\n",
    "colors = ['red','blue','green','yellow']\n",
    "result = ''.join(colors)\n",
    "print(result)"
   ]
  },
  {
   "cell_type": "code",
   "execution_count": 14,
   "metadata": {},
   "outputs": [
    {
     "name": "stdout",
     "output_type": "stream",
     "text": [
      "파이썬 키워드 갯수 :  35 개\n",
      "['False', 'None', 'True', 'and', 'as', 'assert', 'async', 'await', 'break', 'class', 'continue', 'def', 'del', 'elif', 'else', 'except', 'finally', 'for', 'from', 'global', 'if', 'import', 'in', 'is', 'lambda', 'nonlocal', 'not', 'or', 'pass', 'raise', 'return', 'try', 'while', 'with', 'yield']\n"
     ]
    }
   ],
   "source": [
    "import keyword\n",
    "print(\"파이썬 키워드 갯수 : \",len(keyword.kwlist),'개') #len은 length의 약자\n",
    "print(keyword.kwlist)"
   ]
  },
  {
   "cell_type": "markdown",
   "metadata": {},
   "source": [
    "#식별자(identifier)\n",
    "알파벳, 숫자, 언더바(_)만 허용 \n",
    "일반 프로그램에서는 언더바를 식별자로 잘 사용하지를 않는다.\n",
    "자바처럼 대소문자를 구분한다. Ex) Age , age 다른 값"
   ]
  },
  {
   "cell_type": "markdown",
   "metadata": {},
   "source": [
    "#식별자 표현 방법\n",
    "스네이크 케이스 : 언더바(_)를 기호 중간에 붙이기\n",
    "캐멀 케이스 : 단어들의 첫글자를 대문자로 하기"
   ]
  },
  {
   "cell_type": "markdown",
   "metadata": {},
   "source": [
    "파이썬은 자바와 다르게 큰따옴표 작은따옴표 구분하지 않는다. \n"
   ]
  },
  {
   "cell_type": "code",
   "execution_count": 16,
   "metadata": {},
   "outputs": [
    {
     "name": "stdout",
     "output_type": "stream",
     "text": [
      "김 Smith 경민\n"
     ]
    }
   ],
   "source": [
    "#여러 값 출력해 보기\n",
    "print('김','Smith','경민')"
   ]
  },
  {
   "cell_type": "code",
   "execution_count": 21,
   "metadata": {},
   "outputs": [
    {
     "name": "stdout",
     "output_type": "stream",
     "text": [
      "2821359010320\n",
      "2821359010352\n"
     ]
    }
   ],
   "source": [
    "# id() : 메모리 공간(주소) 확인\n",
    "x =10\n",
    "y =10+1\n",
    "print(id(x))\n",
    "print(id(y))"
   ]
  },
  {
   "cell_type": "markdown",
   "metadata": {},
   "source": []
  }
 ],
 "metadata": {
  "kernelspec": {
   "display_name": "Python 3.10.7 64-bit",
   "language": "python",
   "name": "python3"
  },
  "language_info": {
   "codemirror_mode": {
    "name": "ipython",
    "version": 3
   },
   "file_extension": ".py",
   "mimetype": "text/x-python",
   "name": "python",
   "nbconvert_exporter": "python",
   "pygments_lexer": "ipython3",
   "version": "3.10.7"
  },
  "orig_nbformat": 4,
  "vscode": {
   "interpreter": {
    "hash": "607db476e417971f05b607c2dd14e77ee8262c2c4c20dea422522c60605a222a"
   }
  }
 },
 "nbformat": 4,
 "nbformat_minor": 2
}
